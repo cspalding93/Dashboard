{
 "cells": [
  {
   "cell_type": "code",
   "execution_count": 27,
   "metadata": {},
   "outputs": [],
   "source": [
    "import pandas as pd\n",
    "import numpy as np\n",
    "import matplotlib.pyplot as plt"
   ]
  },
  {
   "cell_type": "markdown",
   "metadata": {},
   "source": [
    "## EDA Report Summary: \n",
    "\n",
    "*Quick Look:*\n",
    "- Unique customers: 139,452\n",
    "- Unique items: 4,070\n",
    "- Unique countries: 38\n",
    "- Total cancelations: 9288\n",
    "- Sales total (w/ cancelations): \\$ 9,769,872.05\n",
    "- total cancelations: \\$ -896,812.49\n",
    "- total sales (w/o cancelations): \\$ 10,666,684.54\n",
    "- large orders totals: 4849 (defined as 100+ quantities in a single purchase)\n",
    "- first recorded sale date:\n",
    "- last recorded sale date:\n",
    "- time between sale and corresponding cancelation:\n",
    "- most bought item:\n",
    "- most cancelled item:\n",
    "\n",
    "*Notes:*\n"
   ]
  },
  {
   "cell_type": "code",
   "execution_count": 12,
   "metadata": {},
   "outputs": [],
   "source": [
    "online = pd.read_excel(\"Online_Retail.xlsx\")\n",
    "online.to_csv(\"online_retail.csv\", index=False) \n",
    "\n",
    "retail = pd.read_excel(\"Online_Retail_2.xlsx\")\n",
    "retail.to_csv(\"Online_Retail_2.csv\", index=False)"
   ]
  },
  {
   "cell_type": "code",
   "execution_count": 29,
   "metadata": {},
   "outputs": [
    {
     "data": {
      "text/plain": [
       "38"
      ]
     },
     "execution_count": 29,
     "metadata": {},
     "output_type": "execute_result"
    }
   ],
   "source": [
    "len(set(online[\"Country\"]))"
   ]
  },
  {
   "cell_type": "code",
   "execution_count": 15,
   "metadata": {},
   "outputs": [
    {
     "data": {
      "text/plain": [
       "139452"
      ]
     },
     "execution_count": 15,
     "metadata": {},
     "output_type": "execute_result"
    }
   ],
   "source": [
    "customers"
   ]
  },
  {
   "cell_type": "code",
   "execution_count": 22,
   "metadata": {},
   "outputs": [
    {
     "data": {
      "text/plain": [
       "InvoiceNo           0\n",
       "StockCode           0\n",
       "Description      1454\n",
       "Quantity            0\n",
       "InvoiceDate         0\n",
       "UnitPrice           0\n",
       "CustomerID     135080\n",
       "Country             0\n",
       "dtype: int64"
      ]
     },
     "execution_count": 22,
     "metadata": {},
     "output_type": "execute_result"
    }
   ],
   "source": [
    "online.isnull().sum()"
   ]
  },
  {
   "cell_type": "code",
   "execution_count": 24,
   "metadata": {},
   "outputs": [
    {
     "data": {
      "text/plain": [
       "InvoiceNo              object\n",
       "StockCode              object\n",
       "Description            object\n",
       "Quantity                int64\n",
       "InvoiceDate    datetime64[ns]\n",
       "UnitPrice             float64\n",
       "CustomerID            float64\n",
       "Country                object\n",
       "dtype: object"
      ]
     },
     "execution_count": 24,
     "metadata": {},
     "output_type": "execute_result"
    }
   ],
   "source": [
    "online.dtypes"
   ]
  },
  {
   "cell_type": "code",
   "execution_count": 25,
   "metadata": {},
   "outputs": [],
   "source": [
    "total_items = len(set(online[\"StockCode\"]))"
   ]
  },
  {
   "cell_type": "code",
   "execution_count": 26,
   "metadata": {},
   "outputs": [
    {
     "data": {
      "text/plain": [
       "4070"
      ]
     },
     "execution_count": 26,
     "metadata": {},
     "output_type": "execute_result"
    }
   ],
   "source": [
    "total_items"
   ]
  },
  {
   "cell_type": "code",
   "execution_count": 40,
   "metadata": {},
   "outputs": [],
   "source": [
    "# cleaning the data of extreme prices\n",
    "fixed_prices = online[\"UnitPrice\"] > 0\n",
    "online = online[fixed_prices]\n",
    "\n",
    "\n"
   ]
  },
  {
   "cell_type": "code",
   "execution_count": 47,
   "metadata": {},
   "outputs": [
    {
     "data": {
      "text/html": [
       "<div>\n",
       "<style scoped>\n",
       "    .dataframe tbody tr th:only-of-type {\n",
       "        vertical-align: middle;\n",
       "    }\n",
       "\n",
       "    .dataframe tbody tr th {\n",
       "        vertical-align: top;\n",
       "    }\n",
       "\n",
       "    .dataframe thead th {\n",
       "        text-align: right;\n",
       "    }\n",
       "</style>\n",
       "<table border=\"1\" class=\"dataframe\">\n",
       "  <thead>\n",
       "    <tr style=\"text-align: right;\">\n",
       "      <th></th>\n",
       "      <th>InvoiceNo</th>\n",
       "      <th>StockCode</th>\n",
       "      <th>Description</th>\n",
       "      <th>Quantity</th>\n",
       "      <th>InvoiceDate</th>\n",
       "      <th>UnitPrice</th>\n",
       "      <th>CustomerID</th>\n",
       "      <th>Country</th>\n",
       "    </tr>\n",
       "  </thead>\n",
       "  <tbody>\n",
       "    <tr>\n",
       "      <td>15016</td>\n",
       "      <td>C537630</td>\n",
       "      <td>AMAZONFEE</td>\n",
       "      <td>AMAZON FEE</td>\n",
       "      <td>-1</td>\n",
       "      <td>2010-12-07 15:04:00</td>\n",
       "      <td>13541.33</td>\n",
       "      <td>NaN</td>\n",
       "      <td>United Kingdom</td>\n",
       "    </tr>\n",
       "    <tr>\n",
       "      <td>15017</td>\n",
       "      <td>537632</td>\n",
       "      <td>AMAZONFEE</td>\n",
       "      <td>AMAZON FEE</td>\n",
       "      <td>1</td>\n",
       "      <td>2010-12-07 15:08:00</td>\n",
       "      <td>13541.33</td>\n",
       "      <td>NaN</td>\n",
       "      <td>United Kingdom</td>\n",
       "    </tr>\n",
       "    <tr>\n",
       "      <td>16232</td>\n",
       "      <td>C537644</td>\n",
       "      <td>AMAZONFEE</td>\n",
       "      <td>AMAZON FEE</td>\n",
       "      <td>-1</td>\n",
       "      <td>2010-12-07 15:34:00</td>\n",
       "      <td>13474.79</td>\n",
       "      <td>NaN</td>\n",
       "      <td>United Kingdom</td>\n",
       "    </tr>\n",
       "    <tr>\n",
       "      <td>16313</td>\n",
       "      <td>C537647</td>\n",
       "      <td>AMAZONFEE</td>\n",
       "      <td>AMAZON FEE</td>\n",
       "      <td>-1</td>\n",
       "      <td>2010-12-07 15:41:00</td>\n",
       "      <td>5519.25</td>\n",
       "      <td>NaN</td>\n",
       "      <td>United Kingdom</td>\n",
       "    </tr>\n",
       "    <tr>\n",
       "      <td>16356</td>\n",
       "      <td>C537651</td>\n",
       "      <td>AMAZONFEE</td>\n",
       "      <td>AMAZON FEE</td>\n",
       "      <td>-1</td>\n",
       "      <td>2010-12-07 15:49:00</td>\n",
       "      <td>13541.33</td>\n",
       "      <td>NaN</td>\n",
       "      <td>United Kingdom</td>\n",
       "    </tr>\n",
       "  </tbody>\n",
       "</table>\n",
       "</div>"
      ],
      "text/plain": [
       "      InvoiceNo  StockCode Description  Quantity         InvoiceDate  \\\n",
       "15016   C537630  AMAZONFEE  AMAZON FEE        -1 2010-12-07 15:04:00   \n",
       "15017    537632  AMAZONFEE  AMAZON FEE         1 2010-12-07 15:08:00   \n",
       "16232   C537644  AMAZONFEE  AMAZON FEE        -1 2010-12-07 15:34:00   \n",
       "16313   C537647  AMAZONFEE  AMAZON FEE        -1 2010-12-07 15:41:00   \n",
       "16356   C537651  AMAZONFEE  AMAZON FEE        -1 2010-12-07 15:49:00   \n",
       "\n",
       "       UnitPrice  CustomerID         Country  \n",
       "15016   13541.33         NaN  United Kingdom  \n",
       "15017   13541.33         NaN  United Kingdom  \n",
       "16232   13474.79         NaN  United Kingdom  \n",
       "16313    5519.25         NaN  United Kingdom  \n",
       "16356   13541.33         NaN  United Kingdom  "
      ]
     },
     "execution_count": 47,
     "metadata": {},
     "output_type": "execute_result"
    }
   ],
   "source": [
    "outrageous_prices = online[\"UnitPrice\"] > 5000\n",
    "\n",
    "online[outrageous_prices].head()"
   ]
  },
  {
   "cell_type": "code",
   "execution_count": 69,
   "metadata": {},
   "outputs": [],
   "source": [
    "online[\"Canceled\"] = online[\"InvoiceNo\"].str.contains(pat=\"C\", na=0, regex=False)"
   ]
  },
  {
   "cell_type": "code",
   "execution_count": 68,
   "metadata": {},
   "outputs": [
    {
     "data": {
      "text/html": [
       "<div>\n",
       "<style scoped>\n",
       "    .dataframe tbody tr th:only-of-type {\n",
       "        vertical-align: middle;\n",
       "    }\n",
       "\n",
       "    .dataframe tbody tr th {\n",
       "        vertical-align: top;\n",
       "    }\n",
       "\n",
       "    .dataframe thead th {\n",
       "        text-align: right;\n",
       "    }\n",
       "</style>\n",
       "<table border=\"1\" class=\"dataframe\">\n",
       "  <thead>\n",
       "    <tr style=\"text-align: right;\">\n",
       "      <th></th>\n",
       "      <th>InvoiceNo</th>\n",
       "      <th>StockCode</th>\n",
       "      <th>Description</th>\n",
       "      <th>Quantity</th>\n",
       "      <th>InvoiceDate</th>\n",
       "      <th>UnitPrice</th>\n",
       "      <th>CustomerID</th>\n",
       "      <th>Country</th>\n",
       "      <th>Canceled</th>\n",
       "    </tr>\n",
       "  </thead>\n",
       "  <tbody>\n",
       "    <tr>\n",
       "      <td>141</td>\n",
       "      <td>C536379</td>\n",
       "      <td>D</td>\n",
       "      <td>Discount</td>\n",
       "      <td>-1</td>\n",
       "      <td>2010-12-01 09:41:00</td>\n",
       "      <td>27.50</td>\n",
       "      <td>14527.0</td>\n",
       "      <td>United Kingdom</td>\n",
       "      <td>True</td>\n",
       "    </tr>\n",
       "    <tr>\n",
       "      <td>154</td>\n",
       "      <td>C536383</td>\n",
       "      <td>35004C</td>\n",
       "      <td>SET OF 3 COLOURED  FLYING DUCKS</td>\n",
       "      <td>-1</td>\n",
       "      <td>2010-12-01 09:49:00</td>\n",
       "      <td>4.65</td>\n",
       "      <td>15311.0</td>\n",
       "      <td>United Kingdom</td>\n",
       "      <td>True</td>\n",
       "    </tr>\n",
       "    <tr>\n",
       "      <td>235</td>\n",
       "      <td>C536391</td>\n",
       "      <td>22556</td>\n",
       "      <td>PLASTERS IN TIN CIRCUS PARADE</td>\n",
       "      <td>-12</td>\n",
       "      <td>2010-12-01 10:24:00</td>\n",
       "      <td>1.65</td>\n",
       "      <td>17548.0</td>\n",
       "      <td>United Kingdom</td>\n",
       "      <td>True</td>\n",
       "    </tr>\n",
       "    <tr>\n",
       "      <td>236</td>\n",
       "      <td>C536391</td>\n",
       "      <td>21984</td>\n",
       "      <td>PACK OF 12 PINK PAISLEY TISSUES</td>\n",
       "      <td>-24</td>\n",
       "      <td>2010-12-01 10:24:00</td>\n",
       "      <td>0.29</td>\n",
       "      <td>17548.0</td>\n",
       "      <td>United Kingdom</td>\n",
       "      <td>True</td>\n",
       "    </tr>\n",
       "    <tr>\n",
       "      <td>237</td>\n",
       "      <td>C536391</td>\n",
       "      <td>21983</td>\n",
       "      <td>PACK OF 12 BLUE PAISLEY TISSUES</td>\n",
       "      <td>-24</td>\n",
       "      <td>2010-12-01 10:24:00</td>\n",
       "      <td>0.29</td>\n",
       "      <td>17548.0</td>\n",
       "      <td>United Kingdom</td>\n",
       "      <td>True</td>\n",
       "    </tr>\n",
       "    <tr>\n",
       "      <td>...</td>\n",
       "      <td>...</td>\n",
       "      <td>...</td>\n",
       "      <td>...</td>\n",
       "      <td>...</td>\n",
       "      <td>...</td>\n",
       "      <td>...</td>\n",
       "      <td>...</td>\n",
       "      <td>...</td>\n",
       "      <td>...</td>\n",
       "    </tr>\n",
       "    <tr>\n",
       "      <td>540449</td>\n",
       "      <td>C581490</td>\n",
       "      <td>23144</td>\n",
       "      <td>ZINC T-LIGHT HOLDER STARS SMALL</td>\n",
       "      <td>-11</td>\n",
       "      <td>2011-12-09 09:57:00</td>\n",
       "      <td>0.83</td>\n",
       "      <td>14397.0</td>\n",
       "      <td>United Kingdom</td>\n",
       "      <td>True</td>\n",
       "    </tr>\n",
       "    <tr>\n",
       "      <td>541541</td>\n",
       "      <td>C581499</td>\n",
       "      <td>M</td>\n",
       "      <td>Manual</td>\n",
       "      <td>-1</td>\n",
       "      <td>2011-12-09 10:28:00</td>\n",
       "      <td>224.69</td>\n",
       "      <td>15498.0</td>\n",
       "      <td>United Kingdom</td>\n",
       "      <td>True</td>\n",
       "    </tr>\n",
       "    <tr>\n",
       "      <td>541715</td>\n",
       "      <td>C581568</td>\n",
       "      <td>21258</td>\n",
       "      <td>VICTORIAN SEWING BOX LARGE</td>\n",
       "      <td>-5</td>\n",
       "      <td>2011-12-09 11:57:00</td>\n",
       "      <td>10.95</td>\n",
       "      <td>15311.0</td>\n",
       "      <td>United Kingdom</td>\n",
       "      <td>True</td>\n",
       "    </tr>\n",
       "    <tr>\n",
       "      <td>541716</td>\n",
       "      <td>C581569</td>\n",
       "      <td>84978</td>\n",
       "      <td>HANGING HEART JAR T-LIGHT HOLDER</td>\n",
       "      <td>-1</td>\n",
       "      <td>2011-12-09 11:58:00</td>\n",
       "      <td>1.25</td>\n",
       "      <td>17315.0</td>\n",
       "      <td>United Kingdom</td>\n",
       "      <td>True</td>\n",
       "    </tr>\n",
       "    <tr>\n",
       "      <td>541717</td>\n",
       "      <td>C581569</td>\n",
       "      <td>20979</td>\n",
       "      <td>36 PENCILS TUBE RED RETROSPOT</td>\n",
       "      <td>-5</td>\n",
       "      <td>2011-12-09 11:58:00</td>\n",
       "      <td>1.25</td>\n",
       "      <td>17315.0</td>\n",
       "      <td>United Kingdom</td>\n",
       "      <td>True</td>\n",
       "    </tr>\n",
       "  </tbody>\n",
       "</table>\n",
       "<p>9288 rows × 9 columns</p>\n",
       "</div>"
      ],
      "text/plain": [
       "       InvoiceNo StockCode                       Description  Quantity  \\\n",
       "141      C536379         D                          Discount        -1   \n",
       "154      C536383    35004C   SET OF 3 COLOURED  FLYING DUCKS        -1   \n",
       "235      C536391     22556    PLASTERS IN TIN CIRCUS PARADE        -12   \n",
       "236      C536391     21984  PACK OF 12 PINK PAISLEY TISSUES        -24   \n",
       "237      C536391     21983  PACK OF 12 BLUE PAISLEY TISSUES        -24   \n",
       "...          ...       ...                               ...       ...   \n",
       "540449   C581490     23144   ZINC T-LIGHT HOLDER STARS SMALL       -11   \n",
       "541541   C581499         M                            Manual        -1   \n",
       "541715   C581568     21258        VICTORIAN SEWING BOX LARGE        -5   \n",
       "541716   C581569     84978  HANGING HEART JAR T-LIGHT HOLDER        -1   \n",
       "541717   C581569     20979     36 PENCILS TUBE RED RETROSPOT        -5   \n",
       "\n",
       "               InvoiceDate  UnitPrice  CustomerID         Country Canceled  \n",
       "141    2010-12-01 09:41:00      27.50     14527.0  United Kingdom     True  \n",
       "154    2010-12-01 09:49:00       4.65     15311.0  United Kingdom     True  \n",
       "235    2010-12-01 10:24:00       1.65     17548.0  United Kingdom     True  \n",
       "236    2010-12-01 10:24:00       0.29     17548.0  United Kingdom     True  \n",
       "237    2010-12-01 10:24:00       0.29     17548.0  United Kingdom     True  \n",
       "...                    ...        ...         ...             ...      ...  \n",
       "540449 2011-12-09 09:57:00       0.83     14397.0  United Kingdom     True  \n",
       "541541 2011-12-09 10:28:00     224.69     15498.0  United Kingdom     True  \n",
       "541715 2011-12-09 11:57:00      10.95     15311.0  United Kingdom     True  \n",
       "541716 2011-12-09 11:58:00       1.25     17315.0  United Kingdom     True  \n",
       "541717 2011-12-09 11:58:00       1.25     17315.0  United Kingdom     True  \n",
       "\n",
       "[9288 rows x 9 columns]"
      ]
     },
     "execution_count": 68,
     "metadata": {},
     "output_type": "execute_result"
    }
   ],
   "source": [
    "online[online[\"Canceled\"] == 1]"
   ]
  },
  {
   "cell_type": "code",
   "execution_count": 72,
   "metadata": {},
   "outputs": [
    {
     "data": {
      "text/plain": [
       "9769872.054003222"
      ]
     },
     "execution_count": 72,
     "metadata": {},
     "output_type": "execute_result"
    }
   ],
   "source": [
    "online[\"Total_Sale\"] = online[\"Quantity\"]*online[\"UnitPrice\"]\n",
    "\n",
    "sum(online[\"Total_Sale\"])"
   ]
  },
  {
   "cell_type": "code",
   "execution_count": 79,
   "metadata": {},
   "outputs": [
    {
     "data": {
      "text/plain": [
       "-896812.4899999994"
      ]
     },
     "execution_count": 79,
     "metadata": {},
     "output_type": "execute_result"
    }
   ],
   "source": [
    "cancelations = online[ \"Total_Sale\" ] < 0\n",
    "sum( online[ cancelations ][ \"Total_Sale\" ] )"
   ]
  },
  {
   "cell_type": "code",
   "execution_count": 80,
   "metadata": {},
   "outputs": [
    {
     "data": {
      "text/plain": [
       "10666684.544004016"
      ]
     },
     "execution_count": 80,
     "metadata": {},
     "output_type": "execute_result"
    }
   ],
   "source": [
    "confirmed = online[ \"Total_Sale\" ] > 0\n",
    "sum( online[ confirmed ][ \"Total_Sale\" ] )"
   ]
  },
  {
   "cell_type": "code",
   "execution_count": 99,
   "metadata": {
    "scrolled": false
   },
   "outputs": [
    {
     "data": {
      "text/html": [
       "<div>\n",
       "<style scoped>\n",
       "    .dataframe tbody tr th:only-of-type {\n",
       "        vertical-align: middle;\n",
       "    }\n",
       "\n",
       "    .dataframe tbody tr th {\n",
       "        vertical-align: top;\n",
       "    }\n",
       "\n",
       "    .dataframe thead th {\n",
       "        text-align: right;\n",
       "    }\n",
       "</style>\n",
       "<table border=\"1\" class=\"dataframe\">\n",
       "  <thead>\n",
       "    <tr style=\"text-align: right;\">\n",
       "      <th></th>\n",
       "      <th>InvoiceNo</th>\n",
       "      <th>StockCode</th>\n",
       "      <th>Description</th>\n",
       "      <th>Quantity</th>\n",
       "      <th>InvoiceDate</th>\n",
       "      <th>UnitPrice</th>\n",
       "      <th>CustomerID</th>\n",
       "      <th>Country</th>\n",
       "      <th>Canceled</th>\n",
       "      <th>Total_Sale</th>\n",
       "    </tr>\n",
       "  </thead>\n",
       "  <tbody>\n",
       "    <tr>\n",
       "      <td>96</td>\n",
       "      <td>536378</td>\n",
       "      <td>21212</td>\n",
       "      <td>PACK OF 72 RETROSPOT CAKE CASES</td>\n",
       "      <td>120</td>\n",
       "      <td>2010-12-01 09:37:00</td>\n",
       "      <td>0.42</td>\n",
       "      <td>14688.0</td>\n",
       "      <td>United Kingdom</td>\n",
       "      <td>0</td>\n",
       "      <td>50.40</td>\n",
       "    </tr>\n",
       "    <tr>\n",
       "      <td>178</td>\n",
       "      <td>536387</td>\n",
       "      <td>79321</td>\n",
       "      <td>CHILLI LIGHTS</td>\n",
       "      <td>192</td>\n",
       "      <td>2010-12-01 09:58:00</td>\n",
       "      <td>3.82</td>\n",
       "      <td>16029.0</td>\n",
       "      <td>United Kingdom</td>\n",
       "      <td>0</td>\n",
       "      <td>733.44</td>\n",
       "    </tr>\n",
       "    <tr>\n",
       "      <td>179</td>\n",
       "      <td>536387</td>\n",
       "      <td>22780</td>\n",
       "      <td>LIGHT GARLAND BUTTERFILES PINK</td>\n",
       "      <td>192</td>\n",
       "      <td>2010-12-01 09:58:00</td>\n",
       "      <td>3.37</td>\n",
       "      <td>16029.0</td>\n",
       "      <td>United Kingdom</td>\n",
       "      <td>0</td>\n",
       "      <td>647.04</td>\n",
       "    </tr>\n",
       "    <tr>\n",
       "      <td>180</td>\n",
       "      <td>536387</td>\n",
       "      <td>22779</td>\n",
       "      <td>WOODEN OWLS LIGHT GARLAND</td>\n",
       "      <td>192</td>\n",
       "      <td>2010-12-01 09:58:00</td>\n",
       "      <td>3.37</td>\n",
       "      <td>16029.0</td>\n",
       "      <td>United Kingdom</td>\n",
       "      <td>0</td>\n",
       "      <td>647.04</td>\n",
       "    </tr>\n",
       "    <tr>\n",
       "      <td>181</td>\n",
       "      <td>536387</td>\n",
       "      <td>22466</td>\n",
       "      <td>FAIRY TALE COTTAGE NIGHTLIGHT</td>\n",
       "      <td>432</td>\n",
       "      <td>2010-12-01 09:58:00</td>\n",
       "      <td>1.45</td>\n",
       "      <td>16029.0</td>\n",
       "      <td>United Kingdom</td>\n",
       "      <td>0</td>\n",
       "      <td>626.40</td>\n",
       "    </tr>\n",
       "    <tr>\n",
       "      <td>...</td>\n",
       "      <td>...</td>\n",
       "      <td>...</td>\n",
       "      <td>...</td>\n",
       "      <td>...</td>\n",
       "      <td>...</td>\n",
       "      <td>...</td>\n",
       "      <td>...</td>\n",
       "      <td>...</td>\n",
       "      <td>...</td>\n",
       "      <td>...</td>\n",
       "    </tr>\n",
       "    <tr>\n",
       "      <td>540442</td>\n",
       "      <td>581487</td>\n",
       "      <td>21137</td>\n",
       "      <td>BLACK RECORD COVER FRAME</td>\n",
       "      <td>120</td>\n",
       "      <td>2011-12-09 09:44:00</td>\n",
       "      <td>3.39</td>\n",
       "      <td>15694.0</td>\n",
       "      <td>United Kingdom</td>\n",
       "      <td>0</td>\n",
       "      <td>406.80</td>\n",
       "    </tr>\n",
       "    <tr>\n",
       "      <td>541286</td>\n",
       "      <td>581497</td>\n",
       "      <td>22355</td>\n",
       "      <td>CHARLOTTE BAG SUKI DESIGN</td>\n",
       "      <td>110</td>\n",
       "      <td>2011-12-09 10:23:00</td>\n",
       "      <td>2.46</td>\n",
       "      <td>NaN</td>\n",
       "      <td>United Kingdom</td>\n",
       "      <td>0</td>\n",
       "      <td>270.60</td>\n",
       "    </tr>\n",
       "    <tr>\n",
       "      <td>541545</td>\n",
       "      <td>581501</td>\n",
       "      <td>22319</td>\n",
       "      <td>HAIRCLIPS FORTIES FABRIC ASSORTED</td>\n",
       "      <td>180</td>\n",
       "      <td>2011-12-09 10:46:00</td>\n",
       "      <td>0.19</td>\n",
       "      <td>12985.0</td>\n",
       "      <td>United Kingdom</td>\n",
       "      <td>0</td>\n",
       "      <td>34.20</td>\n",
       "    </tr>\n",
       "    <tr>\n",
       "      <td>541702</td>\n",
       "      <td>581566</td>\n",
       "      <td>23404</td>\n",
       "      <td>HOME SWEET HOME BLACKBOARD</td>\n",
       "      <td>144</td>\n",
       "      <td>2011-12-09 11:50:00</td>\n",
       "      <td>3.26</td>\n",
       "      <td>18102.0</td>\n",
       "      <td>United Kingdom</td>\n",
       "      <td>0</td>\n",
       "      <td>469.44</td>\n",
       "    </tr>\n",
       "    <tr>\n",
       "      <td>541711</td>\n",
       "      <td>581567</td>\n",
       "      <td>21326</td>\n",
       "      <td>AGED GLASS SILVER T-LIGHT HOLDER</td>\n",
       "      <td>144</td>\n",
       "      <td>2011-12-09 11:56:00</td>\n",
       "      <td>0.55</td>\n",
       "      <td>16626.0</td>\n",
       "      <td>United Kingdom</td>\n",
       "      <td>0</td>\n",
       "      <td>79.20</td>\n",
       "    </tr>\n",
       "  </tbody>\n",
       "</table>\n",
       "<p>4849 rows × 10 columns</p>\n",
       "</div>"
      ],
      "text/plain": [
       "       InvoiceNo StockCode                        Description  Quantity  \\\n",
       "96        536378     21212    PACK OF 72 RETROSPOT CAKE CASES       120   \n",
       "178       536387     79321                      CHILLI LIGHTS       192   \n",
       "179       536387     22780     LIGHT GARLAND BUTTERFILES PINK       192   \n",
       "180       536387     22779         WOODEN OWLS LIGHT GARLAND        192   \n",
       "181       536387     22466      FAIRY TALE COTTAGE NIGHTLIGHT       432   \n",
       "...          ...       ...                                ...       ...   \n",
       "540442    581487     21137           BLACK RECORD COVER FRAME       120   \n",
       "541286    581497     22355          CHARLOTTE BAG SUKI DESIGN       110   \n",
       "541545    581501     22319  HAIRCLIPS FORTIES FABRIC ASSORTED       180   \n",
       "541702    581566     23404         HOME SWEET HOME BLACKBOARD       144   \n",
       "541711    581567     21326   AGED GLASS SILVER T-LIGHT HOLDER       144   \n",
       "\n",
       "               InvoiceDate  UnitPrice  CustomerID         Country Canceled  \\\n",
       "96     2010-12-01 09:37:00       0.42     14688.0  United Kingdom        0   \n",
       "178    2010-12-01 09:58:00       3.82     16029.0  United Kingdom        0   \n",
       "179    2010-12-01 09:58:00       3.37     16029.0  United Kingdom        0   \n",
       "180    2010-12-01 09:58:00       3.37     16029.0  United Kingdom        0   \n",
       "181    2010-12-01 09:58:00       1.45     16029.0  United Kingdom        0   \n",
       "...                    ...        ...         ...             ...      ...   \n",
       "540442 2011-12-09 09:44:00       3.39     15694.0  United Kingdom        0   \n",
       "541286 2011-12-09 10:23:00       2.46         NaN  United Kingdom        0   \n",
       "541545 2011-12-09 10:46:00       0.19     12985.0  United Kingdom        0   \n",
       "541702 2011-12-09 11:50:00       3.26     18102.0  United Kingdom        0   \n",
       "541711 2011-12-09 11:56:00       0.55     16626.0  United Kingdom        0   \n",
       "\n",
       "        Total_Sale  \n",
       "96           50.40  \n",
       "178         733.44  \n",
       "179         647.04  \n",
       "180         647.04  \n",
       "181         626.40  \n",
       "...            ...  \n",
       "540442      406.80  \n",
       "541286      270.60  \n",
       "541545       34.20  \n",
       "541702      469.44  \n",
       "541711       79.20  \n",
       "\n",
       "[4849 rows x 10 columns]"
      ]
     },
     "execution_count": 99,
     "metadata": {},
     "output_type": "execute_result"
    }
   ],
   "source": [
    "large_orders = online[ \"Quantity\" ] > 100\n",
    "online[large_orders]"
   ]
  },
  {
   "cell_type": "code",
   "execution_count": 98,
   "metadata": {},
   "outputs": [
    {
     "data": {
      "text/plain": [
       "23796"
      ]
     },
     "execution_count": 98,
     "metadata": {},
     "output_type": "execute_result"
    }
   ],
   "source": []
  }
 ],
 "metadata": {
  "kernelspec": {
   "display_name": "Python 3",
   "language": "python",
   "name": "python3"
  },
  "language_info": {
   "codemirror_mode": {
    "name": "ipython",
    "version": 3
   },
   "file_extension": ".py",
   "mimetype": "text/x-python",
   "name": "python",
   "nbconvert_exporter": "python",
   "pygments_lexer": "ipython3",
   "version": "3.7.3"
  }
 },
 "nbformat": 4,
 "nbformat_minor": 2
}
